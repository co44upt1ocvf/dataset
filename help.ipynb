{
 "cells": [
  {
   "cell_type": "code",
   "execution_count": 2,
   "outputs": [
    {
     "data": {
      "text/plain": "       Anime_id                                               Name  \\\n0         32281                                     Kimi no Na wa.   \n1          5114                   Fullmetal Alchemist: Brotherhood   \n2         28977                                           Gintama°   \n3          9253                                        Steins;Gate   \n4          9969                                      Gintama&#039;   \n...         ...                                                ...   \n11340      3286  Gibo no Toiki: Haitoku Kokoro ni Tadayou Haha ...   \n11341      5651                   Helter Skelter: Hakudaku no Mura   \n11342     33768                Oide yo! Shiritsu Yarimakuri Gakuen   \n11343     10590                                            Reunion   \n11344      2505                             Ringetsu The Animation   \n\n                                                   Genre   Type Episodes  \\\n0                   Drama, Romance, School, Supernatural  Movie        1   \n1      Action, Adventure, Drama, Fantasy, Magic, Mili...     TV       64   \n2      Action, Comedy, Historical, Parody, Samurai, S...     TV       51   \n3                                       Sci-Fi, Thriller     TV       24   \n4      Action, Comedy, Historical, Parody, Samurai, S...     TV       51   \n...                                                  ...    ...      ...   \n11340                                             Hentai    OVA        2   \n11341                                             Hentai    OVA        4   \n11342                                             Hentai    OVA  Unknown   \n11343                                      Harem, Hentai    OVA        2   \n11344                                             Hentai    OVA        3   \n\n       Rating  Members  \n0        9.37   200630  \n1        9.26   793665  \n2        9.25   114262  \n3        9.17   673572  \n4        9.16   151266  \n...       ...      ...  \n11340    6.79     3536  \n11341    6.79     3898  \n11342    6.79     1059  \n11343    6.79     3965  \n11344    6.79     3512  \n\n[11345 rows x 7 columns]",
      "text/html": "<div>\n<style scoped>\n    .dataframe tbody tr th:only-of-type {\n        vertical-align: middle;\n    }\n\n    .dataframe tbody tr th {\n        vertical-align: top;\n    }\n\n    .dataframe thead th {\n        text-align: right;\n    }\n</style>\n<table border=\"1\" class=\"dataframe\">\n  <thead>\n    <tr style=\"text-align: right;\">\n      <th></th>\n      <th>Anime_id</th>\n      <th>Name</th>\n      <th>Genre</th>\n      <th>Type</th>\n      <th>Episodes</th>\n      <th>Rating</th>\n      <th>Members</th>\n    </tr>\n  </thead>\n  <tbody>\n    <tr>\n      <th>0</th>\n      <td>32281</td>\n      <td>Kimi no Na wa.</td>\n      <td>Drama, Romance, School, Supernatural</td>\n      <td>Movie</td>\n      <td>1</td>\n      <td>9.37</td>\n      <td>200630</td>\n    </tr>\n    <tr>\n      <th>1</th>\n      <td>5114</td>\n      <td>Fullmetal Alchemist: Brotherhood</td>\n      <td>Action, Adventure, Drama, Fantasy, Magic, Mili...</td>\n      <td>TV</td>\n      <td>64</td>\n      <td>9.26</td>\n      <td>793665</td>\n    </tr>\n    <tr>\n      <th>2</th>\n      <td>28977</td>\n      <td>Gintama°</td>\n      <td>Action, Comedy, Historical, Parody, Samurai, S...</td>\n      <td>TV</td>\n      <td>51</td>\n      <td>9.25</td>\n      <td>114262</td>\n    </tr>\n    <tr>\n      <th>3</th>\n      <td>9253</td>\n      <td>Steins;Gate</td>\n      <td>Sci-Fi, Thriller</td>\n      <td>TV</td>\n      <td>24</td>\n      <td>9.17</td>\n      <td>673572</td>\n    </tr>\n    <tr>\n      <th>4</th>\n      <td>9969</td>\n      <td>Gintama&amp;#039;</td>\n      <td>Action, Comedy, Historical, Parody, Samurai, S...</td>\n      <td>TV</td>\n      <td>51</td>\n      <td>9.16</td>\n      <td>151266</td>\n    </tr>\n    <tr>\n      <th>...</th>\n      <td>...</td>\n      <td>...</td>\n      <td>...</td>\n      <td>...</td>\n      <td>...</td>\n      <td>...</td>\n      <td>...</td>\n    </tr>\n    <tr>\n      <th>11340</th>\n      <td>3286</td>\n      <td>Gibo no Toiki: Haitoku Kokoro ni Tadayou Haha ...</td>\n      <td>Hentai</td>\n      <td>OVA</td>\n      <td>2</td>\n      <td>6.79</td>\n      <td>3536</td>\n    </tr>\n    <tr>\n      <th>11341</th>\n      <td>5651</td>\n      <td>Helter Skelter: Hakudaku no Mura</td>\n      <td>Hentai</td>\n      <td>OVA</td>\n      <td>4</td>\n      <td>6.79</td>\n      <td>3898</td>\n    </tr>\n    <tr>\n      <th>11342</th>\n      <td>33768</td>\n      <td>Oide yo! Shiritsu Yarimakuri Gakuen</td>\n      <td>Hentai</td>\n      <td>OVA</td>\n      <td>Unknown</td>\n      <td>6.79</td>\n      <td>1059</td>\n    </tr>\n    <tr>\n      <th>11343</th>\n      <td>10590</td>\n      <td>Reunion</td>\n      <td>Harem, Hentai</td>\n      <td>OVA</td>\n      <td>2</td>\n      <td>6.79</td>\n      <td>3965</td>\n    </tr>\n    <tr>\n      <th>11344</th>\n      <td>2505</td>\n      <td>Ringetsu The Animation</td>\n      <td>Hentai</td>\n      <td>OVA</td>\n      <td>3</td>\n      <td>6.79</td>\n      <td>3512</td>\n    </tr>\n  </tbody>\n</table>\n<p>11345 rows × 7 columns</p>\n</div>"
     },
     "execution_count": 2,
     "metadata": {},
     "output_type": "execute_result"
    }
   ],
   "source": [
    "import pandas as pd\n",
    "\n",
    "anime = pd.read_csv('anime.csv')\n",
    "anime"
   ],
   "metadata": {
    "collapsed": false,
    "ExecuteTime": {
     "end_time": "2023-12-18T18:56:54.535170800Z",
     "start_time": "2023-12-18T18:56:54.452152300Z"
    }
   },
   "id": "b7c43abb6299389d"
  },
  {
   "cell_type": "markdown",
   "source": [
    "Цель работы: проанализировать свой скачанный датасет, а именно: вывести весь датасет и описать его, вывести размерноть массива, вывести наименование всех колонок, написать что они означают в датасете, вывести все уникальные значения, отсортировать по определенным параметрам, удалить ненужные столбцы или строчки, заменить определенные значения в датасете (например, пустые), удалить дубликаты, провести анализ с помощью функций info, провести анализ с помощью функций describe, провести выборку данных по строкам и столбцам с помощью loc, сохранить новый датасет, сделать вывод по каждому пункту и описать все.\n",
    "\n",
    "Это датасет, содержащий информацию об аниме. Представлены такие столбцы как id, Название, Жанр, Тип, Эпизоды, Рейтинг, Зрители(?)."
   ],
   "metadata": {
    "collapsed": false
   },
   "id": "dfca9b0b5e6b788b"
  },
  {
   "cell_type": "code",
   "execution_count": 3,
   "outputs": [
    {
     "data": {
      "text/plain": "    Anime_id                              Name  \\\n0      32281                    Kimi no Na wa.   \n1       5114  Fullmetal Alchemist: Brotherhood   \n2      28977                          Gintama°   \n3       9253                       Steins;Gate   \n4       9969                     Gintama&#039;   \n..       ...                               ...   \n95     14719     JoJo no Kimyou na Bouken (TV)   \n96      9756        Mahou Shoujo Madoka★Magica   \n97     10165                          Nichijou   \n98     13601                       Psycho-Pass   \n99     22789                         Barakamon   \n\n                                                Genre   Type Episodes  Rating  \\\n0                Drama, Romance, School, Supernatural  Movie        1    9.37   \n1   Action, Adventure, Drama, Fantasy, Magic, Mili...     TV       64    9.26   \n2   Action, Comedy, Historical, Parody, Samurai, S...     TV       51    9.25   \n3                                    Sci-Fi, Thriller     TV       24    9.17   \n4   Action, Comedy, Historical, Parody, Samurai, S...     TV       51    9.16   \n..                                                ...    ...      ...     ...   \n95  Action, Adventure, Shounen, Supernatural, Vampire     TV       26    8.51   \n96              Drama, Magic, Psychological, Thriller     TV       12    8.51   \n97                      Comedy, School, Slice of Life     TV       26    8.52   \n98              Action, Police, Psychological, Sci-Fi     TV       22    8.50   \n99                              Comedy, Slice of Life     TV       12    8.50   \n\n    Members  \n0    200630  \n1    793665  \n2    114262  \n3    673572  \n4    151266  \n..      ...  \n95   190197  \n96   462974  \n97   254436  \n98   509109  \n99   225927  \n\n[100 rows x 7 columns]",
      "text/html": "<div>\n<style scoped>\n    .dataframe tbody tr th:only-of-type {\n        vertical-align: middle;\n    }\n\n    .dataframe tbody tr th {\n        vertical-align: top;\n    }\n\n    .dataframe thead th {\n        text-align: right;\n    }\n</style>\n<table border=\"1\" class=\"dataframe\">\n  <thead>\n    <tr style=\"text-align: right;\">\n      <th></th>\n      <th>Anime_id</th>\n      <th>Name</th>\n      <th>Genre</th>\n      <th>Type</th>\n      <th>Episodes</th>\n      <th>Rating</th>\n      <th>Members</th>\n    </tr>\n  </thead>\n  <tbody>\n    <tr>\n      <th>0</th>\n      <td>32281</td>\n      <td>Kimi no Na wa.</td>\n      <td>Drama, Romance, School, Supernatural</td>\n      <td>Movie</td>\n      <td>1</td>\n      <td>9.37</td>\n      <td>200630</td>\n    </tr>\n    <tr>\n      <th>1</th>\n      <td>5114</td>\n      <td>Fullmetal Alchemist: Brotherhood</td>\n      <td>Action, Adventure, Drama, Fantasy, Magic, Mili...</td>\n      <td>TV</td>\n      <td>64</td>\n      <td>9.26</td>\n      <td>793665</td>\n    </tr>\n    <tr>\n      <th>2</th>\n      <td>28977</td>\n      <td>Gintama°</td>\n      <td>Action, Comedy, Historical, Parody, Samurai, S...</td>\n      <td>TV</td>\n      <td>51</td>\n      <td>9.25</td>\n      <td>114262</td>\n    </tr>\n    <tr>\n      <th>3</th>\n      <td>9253</td>\n      <td>Steins;Gate</td>\n      <td>Sci-Fi, Thriller</td>\n      <td>TV</td>\n      <td>24</td>\n      <td>9.17</td>\n      <td>673572</td>\n    </tr>\n    <tr>\n      <th>4</th>\n      <td>9969</td>\n      <td>Gintama&amp;#039;</td>\n      <td>Action, Comedy, Historical, Parody, Samurai, S...</td>\n      <td>TV</td>\n      <td>51</td>\n      <td>9.16</td>\n      <td>151266</td>\n    </tr>\n    <tr>\n      <th>...</th>\n      <td>...</td>\n      <td>...</td>\n      <td>...</td>\n      <td>...</td>\n      <td>...</td>\n      <td>...</td>\n      <td>...</td>\n    </tr>\n    <tr>\n      <th>95</th>\n      <td>14719</td>\n      <td>JoJo no Kimyou na Bouken (TV)</td>\n      <td>Action, Adventure, Shounen, Supernatural, Vampire</td>\n      <td>TV</td>\n      <td>26</td>\n      <td>8.51</td>\n      <td>190197</td>\n    </tr>\n    <tr>\n      <th>96</th>\n      <td>9756</td>\n      <td>Mahou Shoujo Madoka★Magica</td>\n      <td>Drama, Magic, Psychological, Thriller</td>\n      <td>TV</td>\n      <td>12</td>\n      <td>8.51</td>\n      <td>462974</td>\n    </tr>\n    <tr>\n      <th>97</th>\n      <td>10165</td>\n      <td>Nichijou</td>\n      <td>Comedy, School, Slice of Life</td>\n      <td>TV</td>\n      <td>26</td>\n      <td>8.52</td>\n      <td>254436</td>\n    </tr>\n    <tr>\n      <th>98</th>\n      <td>13601</td>\n      <td>Psycho-Pass</td>\n      <td>Action, Police, Psychological, Sci-Fi</td>\n      <td>TV</td>\n      <td>22</td>\n      <td>8.50</td>\n      <td>509109</td>\n    </tr>\n    <tr>\n      <th>99</th>\n      <td>22789</td>\n      <td>Barakamon</td>\n      <td>Comedy, Slice of Life</td>\n      <td>TV</td>\n      <td>12</td>\n      <td>8.50</td>\n      <td>225927</td>\n    </tr>\n  </tbody>\n</table>\n<p>100 rows × 7 columns</p>\n</div>"
     },
     "execution_count": 3,
     "metadata": {},
     "output_type": "execute_result"
    }
   ],
   "source": [
    "anime.head(100)"
   ],
   "metadata": {
    "collapsed": false,
    "ExecuteTime": {
     "end_time": "2023-12-18T19:00:34.019525800Z",
     "start_time": "2023-12-18T19:00:33.889818800Z"
    }
   },
   "id": "fe46332d0eb083f8"
  },
  {
   "cell_type": "markdown",
   "source": [
    "Вывод первых 100 значений"
   ],
   "metadata": {
    "collapsed": false
   },
   "id": "21ebe5b7d97122c3"
  },
  {
   "cell_type": "code",
   "execution_count": 4,
   "outputs": [
    {
     "data": {
      "text/plain": "       Anime_id                                               Name  \\\n11245     19631                                          Tayu Tayu   \n11246      5762                             15 Bishoujo Hyouryuuki   \n11247     16642                       Ane Koi: Suki Kirai Daisuki.   \n11248      4600       Aneki... My Sweet Elder Sister The Animation   \n11249     31118  Demon Busters: Ecchi na Ecchi na Demon Taiji T...   \n...         ...                                                ...   \n11340      3286  Gibo no Toiki: Haitoku Kokoro ni Tadayou Haha ...   \n11341      5651                   Helter Skelter: Hakudaku no Mura   \n11342     33768                Oide yo! Shiritsu Yarimakuri Gakuen   \n11343     10590                                            Reunion   \n11344      2505                             Ringetsu The Animation   \n\n                                             Genre Type Episodes  Rating  \\\n11245                       Harem, Hentai, Romance  OVA        4    6.99   \n11246                        Comedy, Harem, Hentai  OVA        3    6.98   \n11247                                       Hentai  OVA        2    6.98   \n11248                                       Hentai  OVA        4    6.98   \n11249  Demons, Harem, Hentai, School, Supernatural  OVA        1    6.98   \n...                                            ...  ...      ...     ...   \n11340                                       Hentai  OVA        2    6.79   \n11341                                       Hentai  OVA        4    6.79   \n11342                                       Hentai  OVA  Unknown    6.79   \n11343                                Harem, Hentai  OVA        2    6.79   \n11344                                       Hentai  OVA        3    6.79   \n\n       Members  \n11245     3579  \n11246    11680  \n11247     4115  \n11248     6101  \n11249     2713  \n...        ...  \n11340     3536  \n11341     3898  \n11342     1059  \n11343     3965  \n11344     3512  \n\n[100 rows x 7 columns]",
      "text/html": "<div>\n<style scoped>\n    .dataframe tbody tr th:only-of-type {\n        vertical-align: middle;\n    }\n\n    .dataframe tbody tr th {\n        vertical-align: top;\n    }\n\n    .dataframe thead th {\n        text-align: right;\n    }\n</style>\n<table border=\"1\" class=\"dataframe\">\n  <thead>\n    <tr style=\"text-align: right;\">\n      <th></th>\n      <th>Anime_id</th>\n      <th>Name</th>\n      <th>Genre</th>\n      <th>Type</th>\n      <th>Episodes</th>\n      <th>Rating</th>\n      <th>Members</th>\n    </tr>\n  </thead>\n  <tbody>\n    <tr>\n      <th>11245</th>\n      <td>19631</td>\n      <td>Tayu Tayu</td>\n      <td>Harem, Hentai, Romance</td>\n      <td>OVA</td>\n      <td>4</td>\n      <td>6.99</td>\n      <td>3579</td>\n    </tr>\n    <tr>\n      <th>11246</th>\n      <td>5762</td>\n      <td>15 Bishoujo Hyouryuuki</td>\n      <td>Comedy, Harem, Hentai</td>\n      <td>OVA</td>\n      <td>3</td>\n      <td>6.98</td>\n      <td>11680</td>\n    </tr>\n    <tr>\n      <th>11247</th>\n      <td>16642</td>\n      <td>Ane Koi: Suki Kirai Daisuki.</td>\n      <td>Hentai</td>\n      <td>OVA</td>\n      <td>2</td>\n      <td>6.98</td>\n      <td>4115</td>\n    </tr>\n    <tr>\n      <th>11248</th>\n      <td>4600</td>\n      <td>Aneki... My Sweet Elder Sister The Animation</td>\n      <td>Hentai</td>\n      <td>OVA</td>\n      <td>4</td>\n      <td>6.98</td>\n      <td>6101</td>\n    </tr>\n    <tr>\n      <th>11249</th>\n      <td>31118</td>\n      <td>Demon Busters: Ecchi na Ecchi na Demon Taiji T...</td>\n      <td>Demons, Harem, Hentai, School, Supernatural</td>\n      <td>OVA</td>\n      <td>1</td>\n      <td>6.98</td>\n      <td>2713</td>\n    </tr>\n    <tr>\n      <th>...</th>\n      <td>...</td>\n      <td>...</td>\n      <td>...</td>\n      <td>...</td>\n      <td>...</td>\n      <td>...</td>\n      <td>...</td>\n    </tr>\n    <tr>\n      <th>11340</th>\n      <td>3286</td>\n      <td>Gibo no Toiki: Haitoku Kokoro ni Tadayou Haha ...</td>\n      <td>Hentai</td>\n      <td>OVA</td>\n      <td>2</td>\n      <td>6.79</td>\n      <td>3536</td>\n    </tr>\n    <tr>\n      <th>11341</th>\n      <td>5651</td>\n      <td>Helter Skelter: Hakudaku no Mura</td>\n      <td>Hentai</td>\n      <td>OVA</td>\n      <td>4</td>\n      <td>6.79</td>\n      <td>3898</td>\n    </tr>\n    <tr>\n      <th>11342</th>\n      <td>33768</td>\n      <td>Oide yo! Shiritsu Yarimakuri Gakuen</td>\n      <td>Hentai</td>\n      <td>OVA</td>\n      <td>Unknown</td>\n      <td>6.79</td>\n      <td>1059</td>\n    </tr>\n    <tr>\n      <th>11343</th>\n      <td>10590</td>\n      <td>Reunion</td>\n      <td>Harem, Hentai</td>\n      <td>OVA</td>\n      <td>2</td>\n      <td>6.79</td>\n      <td>3965</td>\n    </tr>\n    <tr>\n      <th>11344</th>\n      <td>2505</td>\n      <td>Ringetsu The Animation</td>\n      <td>Hentai</td>\n      <td>OVA</td>\n      <td>3</td>\n      <td>6.79</td>\n      <td>3512</td>\n    </tr>\n  </tbody>\n</table>\n<p>100 rows × 7 columns</p>\n</div>"
     },
     "execution_count": 4,
     "metadata": {},
     "output_type": "execute_result"
    }
   ],
   "source": [
    "anime.tail(100)"
   ],
   "metadata": {
    "collapsed": false,
    "ExecuteTime": {
     "end_time": "2023-12-18T19:00:55.085705500Z",
     "start_time": "2023-12-18T19:00:54.962722Z"
    }
   },
   "id": "6603f59ce5171eac"
  },
  {
   "cell_type": "markdown",
   "source": [
    "Вывод последних 100 значений"
   ],
   "metadata": {
    "collapsed": false
   },
   "id": "c4eef90337e4e21f"
  },
  {
   "cell_type": "code",
   "execution_count": 5,
   "outputs": [
    {
     "name": "stdout",
     "output_type": "stream",
     "text": [
      "<class 'pandas.core.frame.DataFrame'>\n",
      "RangeIndex: 11345 entries, 0 to 11344\n",
      "Data columns (total 7 columns):\n",
      " #   Column    Non-Null Count  Dtype  \n",
      "---  ------    --------------  -----  \n",
      " 0   Anime_id  11345 non-null  int64  \n",
      " 1   Name      11345 non-null  object \n",
      " 2   Genre     11283 non-null  object \n",
      " 3   Type      11322 non-null  object \n",
      " 4   Episodes  11345 non-null  object \n",
      " 5   Rating    11125 non-null  float64\n",
      " 6   Members   11345 non-null  int64  \n",
      "dtypes: float64(1), int64(2), object(4)\n",
      "memory usage: 620.6+ KB\n"
     ]
    }
   ],
   "source": [
    "anime.info()"
   ],
   "metadata": {
    "collapsed": false,
    "ExecuteTime": {
     "end_time": "2023-12-18T19:01:41.641724300Z",
     "start_time": "2023-12-18T19:01:41.488751500Z"
    }
   },
   "id": "e14219f964e286ff"
  },
  {
   "cell_type": "markdown",
   "source": [
    "С помощью info() выводим подробную информацию о нашем датасете, если быть точнее, то информацию о колонках, количестве элементов в них и типе."
   ],
   "metadata": {
    "collapsed": false
   },
   "id": "25415e071c8cefb5"
  },
  {
   "cell_type": "code",
   "execution_count": 6,
   "outputs": [
    {
     "data": {
      "text/plain": "Anime_id    11345\nName        11343\nGenre        3142\nType            6\nEpisodes      187\nRating        593\nMembers      6407\ndtype: int64"
     },
     "execution_count": 6,
     "metadata": {},
     "output_type": "execute_result"
    }
   ],
   "source": [
    "anime.nunique()"
   ],
   "metadata": {
    "collapsed": false,
    "ExecuteTime": {
     "end_time": "2023-12-18T19:02:05.060758600Z",
     "start_time": "2023-12-18T19:02:05.001669300Z"
    }
   },
   "id": "bce00678bedf7d5a"
  },
  {
   "cell_type": "markdown",
   "source": [
    "Выводит количество уникальных значений в каждом столбце"
   ],
   "metadata": {
    "collapsed": false
   },
   "id": "c49d78a8e0c87443"
  },
  {
   "cell_type": "code",
   "execution_count": 13,
   "outputs": [
    {
     "data": {
      "text/plain": "11343"
     },
     "execution_count": 13,
     "metadata": {},
     "output_type": "execute_result"
    }
   ],
   "source": [
    "anime[\"Name\"].nunique()"
   ],
   "metadata": {
    "collapsed": false,
    "ExecuteTime": {
     "end_time": "2023-12-18T19:06:09.248801100Z",
     "start_time": "2023-12-18T19:06:09.197956Z"
    }
   },
   "id": "df3052afd027f886"
  },
  {
   "cell_type": "markdown",
   "source": [
    "Вывод уникальных значений в столбце с названием аниме"
   ],
   "metadata": {
    "collapsed": false
   },
   "id": "41b3ad21cac510dd"
  },
  {
   "cell_type": "code",
   "execution_count": 8,
   "outputs": [
    {
     "data": {
      "text/plain": "3142"
     },
     "execution_count": 8,
     "metadata": {},
     "output_type": "execute_result"
    }
   ],
   "source": [
    "anime[\"Genre\"].nunique()"
   ],
   "metadata": {
    "collapsed": false,
    "ExecuteTime": {
     "end_time": "2023-12-18T19:05:16.669541300Z",
     "start_time": "2023-12-18T19:05:16.589532600Z"
    }
   },
   "id": "799461de48f608d"
  },
  {
   "cell_type": "markdown",
   "source": [
    "Вывод уникальных значений в столбце с жанрами"
   ],
   "metadata": {
    "collapsed": false
   },
   "id": "e12d3043b92710a3"
  },
  {
   "cell_type": "code",
   "execution_count": 9,
   "outputs": [
    {
     "data": {
      "text/plain": "6"
     },
     "execution_count": 9,
     "metadata": {},
     "output_type": "execute_result"
    }
   ],
   "source": [
    "anime[\"Type\"].nunique()"
   ],
   "metadata": {
    "collapsed": false,
    "ExecuteTime": {
     "end_time": "2023-12-18T19:05:24.495252600Z",
     "start_time": "2023-12-18T19:05:24.442780700Z"
    }
   },
   "id": "599f6cdd4b0ffbea"
  },
  {
   "cell_type": "markdown",
   "source": [
    "Вывод уникальных значений в столбце с типом аниме"
   ],
   "metadata": {
    "collapsed": false
   },
   "id": "200908e60a816c3b"
  },
  {
   "cell_type": "code",
   "execution_count": 10,
   "outputs": [
    {
     "data": {
      "text/plain": "187"
     },
     "execution_count": 10,
     "metadata": {},
     "output_type": "execute_result"
    }
   ],
   "source": [
    "anime[\"Episodes\"].nunique()"
   ],
   "metadata": {
    "collapsed": false,
    "ExecuteTime": {
     "end_time": "2023-12-18T19:05:39.080729600Z",
     "start_time": "2023-12-18T19:05:38.990805800Z"
    }
   },
   "id": "3dece29aed243bb6"
  },
  {
   "cell_type": "markdown",
   "source": [
    "Вывод уникальных значений в столбце с эпизодами"
   ],
   "metadata": {
    "collapsed": false
   },
   "id": "812c1530504502b8"
  },
  {
   "cell_type": "code",
   "execution_count": 11,
   "outputs": [
    {
     "data": {
      "text/plain": "593"
     },
     "execution_count": 11,
     "metadata": {},
     "output_type": "execute_result"
    }
   ],
   "source": [
    "anime[\"Rating\"].nunique()"
   ],
   "metadata": {
    "collapsed": false,
    "ExecuteTime": {
     "end_time": "2023-12-18T19:05:58.052198100Z",
     "start_time": "2023-12-18T19:05:57.955534800Z"
    }
   },
   "id": "b7c4f697c5ab06c5"
  },
  {
   "cell_type": "markdown",
   "source": [
    "Вывод уникальных значений в столбце с рейтингом"
   ],
   "metadata": {
    "collapsed": false
   },
   "id": "fb7017f8532a8b25"
  },
  {
   "cell_type": "code",
   "execution_count": 12,
   "outputs": [
    {
     "data": {
      "text/plain": "6407"
     },
     "execution_count": 12,
     "metadata": {},
     "output_type": "execute_result"
    }
   ],
   "source": [
    "anime[\"Members\"].nunique()"
   ],
   "metadata": {
    "collapsed": false,
    "ExecuteTime": {
     "end_time": "2023-12-18T19:06:01.515594900Z",
     "start_time": "2023-12-18T19:06:01.468585800Z"
    }
   },
   "id": "63a0c6f6233b7139"
  },
  {
   "cell_type": "markdown",
   "source": [
    "Вывод уникальных значений в столбце с зрителями(?)"
   ],
   "metadata": {
    "collapsed": false
   },
   "id": "8ffebb8242a45006"
  },
  {
   "cell_type": "code",
   "execution_count": 14,
   "outputs": [
    {
     "data": {
      "text/plain": "       Anime_id                                               Name  \\\n7749      20707                                      &quot;0&quot;   \n8059      25627  &quot;Aesop&quot; no Ohanashi yori: Ushi to Ka...   \n3156       7669  &quot;Bungaku Shoujo&quot; Kyou no Oyatsu: Hat...   \n1436       8481                 &quot;Bungaku Shoujo&quot; Memoire   \n1199       6408                   &quot;Bungaku Shoujo&quot; Movie   \n...         ...                                                ...   \n215        6864                                       xxxHOLiC Rou   \n341        4918                                  xxxHOLiC Shunmuki   \n8185      29708                                            Üks Uks   \n10944     32878                                            ēlDLIVE   \n7993      31687                                                  ◯   \n\n                                                   Genre   Type Episodes  \\\n7749                                               Music  Music        1   \n8059                                                Kids  Movie        1   \n3156                             Comedy, Fantasy, School    OVA        1   \n1436                              Drama, Romance, School    OVA        3   \n1199                     Drama, Mystery, Romance, School  Movie        1   \n...                                                  ...    ...      ...   \n215                                Mystery, Supernatural    OVA        2   \n341    Comedy, Drama, Mystery, Psychological, Superna...    OVA        2   \n8185                                            Dementia  Movie        1   \n10944                              Action, Sci-Fi, Space     TV  Unknown   \n7993                                     Dementia, Music    ONA        1   \n\n       Rating  Members  \n7749     5.06     1170  \n8059     5.00      113  \n3156     7.06    14351  \n1436     7.54    18013  \n1199     7.63    40984  \n...       ...      ...  \n215      8.32    36353  \n341      8.17    40401  \n8185     6.17       66  \n10944     NaN     6943  \n7993     4.22      448  \n\n[11345 rows x 7 columns]",
      "text/html": "<div>\n<style scoped>\n    .dataframe tbody tr th:only-of-type {\n        vertical-align: middle;\n    }\n\n    .dataframe tbody tr th {\n        vertical-align: top;\n    }\n\n    .dataframe thead th {\n        text-align: right;\n    }\n</style>\n<table border=\"1\" class=\"dataframe\">\n  <thead>\n    <tr style=\"text-align: right;\">\n      <th></th>\n      <th>Anime_id</th>\n      <th>Name</th>\n      <th>Genre</th>\n      <th>Type</th>\n      <th>Episodes</th>\n      <th>Rating</th>\n      <th>Members</th>\n    </tr>\n  </thead>\n  <tbody>\n    <tr>\n      <th>7749</th>\n      <td>20707</td>\n      <td>&amp;quot;0&amp;quot;</td>\n      <td>Music</td>\n      <td>Music</td>\n      <td>1</td>\n      <td>5.06</td>\n      <td>1170</td>\n    </tr>\n    <tr>\n      <th>8059</th>\n      <td>25627</td>\n      <td>&amp;quot;Aesop&amp;quot; no Ohanashi yori: Ushi to Ka...</td>\n      <td>Kids</td>\n      <td>Movie</td>\n      <td>1</td>\n      <td>5.00</td>\n      <td>113</td>\n    </tr>\n    <tr>\n      <th>3156</th>\n      <td>7669</td>\n      <td>&amp;quot;Bungaku Shoujo&amp;quot; Kyou no Oyatsu: Hat...</td>\n      <td>Comedy, Fantasy, School</td>\n      <td>OVA</td>\n      <td>1</td>\n      <td>7.06</td>\n      <td>14351</td>\n    </tr>\n    <tr>\n      <th>1436</th>\n      <td>8481</td>\n      <td>&amp;quot;Bungaku Shoujo&amp;quot; Memoire</td>\n      <td>Drama, Romance, School</td>\n      <td>OVA</td>\n      <td>3</td>\n      <td>7.54</td>\n      <td>18013</td>\n    </tr>\n    <tr>\n      <th>1199</th>\n      <td>6408</td>\n      <td>&amp;quot;Bungaku Shoujo&amp;quot; Movie</td>\n      <td>Drama, Mystery, Romance, School</td>\n      <td>Movie</td>\n      <td>1</td>\n      <td>7.63</td>\n      <td>40984</td>\n    </tr>\n    <tr>\n      <th>...</th>\n      <td>...</td>\n      <td>...</td>\n      <td>...</td>\n      <td>...</td>\n      <td>...</td>\n      <td>...</td>\n      <td>...</td>\n    </tr>\n    <tr>\n      <th>215</th>\n      <td>6864</td>\n      <td>xxxHOLiC Rou</td>\n      <td>Mystery, Supernatural</td>\n      <td>OVA</td>\n      <td>2</td>\n      <td>8.32</td>\n      <td>36353</td>\n    </tr>\n    <tr>\n      <th>341</th>\n      <td>4918</td>\n      <td>xxxHOLiC Shunmuki</td>\n      <td>Comedy, Drama, Mystery, Psychological, Superna...</td>\n      <td>OVA</td>\n      <td>2</td>\n      <td>8.17</td>\n      <td>40401</td>\n    </tr>\n    <tr>\n      <th>8185</th>\n      <td>29708</td>\n      <td>Üks Uks</td>\n      <td>Dementia</td>\n      <td>Movie</td>\n      <td>1</td>\n      <td>6.17</td>\n      <td>66</td>\n    </tr>\n    <tr>\n      <th>10944</th>\n      <td>32878</td>\n      <td>ēlDLIVE</td>\n      <td>Action, Sci-Fi, Space</td>\n      <td>TV</td>\n      <td>Unknown</td>\n      <td>NaN</td>\n      <td>6943</td>\n    </tr>\n    <tr>\n      <th>7993</th>\n      <td>31687</td>\n      <td>◯</td>\n      <td>Dementia, Music</td>\n      <td>ONA</td>\n      <td>1</td>\n      <td>4.22</td>\n      <td>448</td>\n    </tr>\n  </tbody>\n</table>\n<p>11345 rows × 7 columns</p>\n</div>"
     },
     "execution_count": 14,
     "metadata": {},
     "output_type": "execute_result"
    }
   ],
   "source": [
    "anime.sort_values(by='Name')"
   ],
   "metadata": {
    "collapsed": false,
    "ExecuteTime": {
     "end_time": "2023-12-18T19:08:24.660582900Z",
     "start_time": "2023-12-18T19:08:24.563666Z"
    }
   },
   "id": "20e11c184e0cb384"
  },
  {
   "cell_type": "markdown",
   "source": [
    "Фильтрация данных по столбцу названия аниме"
   ],
   "metadata": {
    "collapsed": false
   },
   "id": "1ae09b8d79b60638"
  },
  {
   "cell_type": "code",
   "execution_count": 15,
   "outputs": [
    {
     "data": {
      "text/plain": "       Anime_id                                               Name  Genre  \\\n244        5365                                      Tsumiki no Ie  Drama   \n321        6211                                Tokyo Magnitude 8.0  Drama   \n469       29093              Grisaia no Meikyuu: Caprice no Mayu 0  Drama   \n707        1520                                         Black Jack  Drama   \n762        2405                                   Hello! Lady Lynn  Drama   \n...         ...                                                ...    ...   \n10852     29812                                       Yumemi Douji  Drama   \n10890     11097                             Zou no Inai Doubutsuen  Drama   \n11058     24023                                         Project758  Drama   \n11062     34348                                    Rescue Academia  Drama   \n11098     34498  Uchiage Hanabi, Shita kara Miru ka? Yoko kara ...  Drama   \n\n          Type Episodes  Rating  Members  \n244      Movie        1    8.27    45189  \n321         TV       11    8.19   121349  \n469    Special        1    8.05    70039  \n707        OVA       12    7.88    14414  \n762         TV       36    7.85     1757  \n...        ...      ...     ...      ...  \n10852    Movie        1    5.27       79  \n10890    Movie        1    6.07       85  \n11058      NaN  Unknown     NaN      455  \n11062      NaN  Unknown     NaN       65  \n11098    Movie        1     NaN      531  \n\n[107 rows x 7 columns]",
      "text/html": "<div>\n<style scoped>\n    .dataframe tbody tr th:only-of-type {\n        vertical-align: middle;\n    }\n\n    .dataframe tbody tr th {\n        vertical-align: top;\n    }\n\n    .dataframe thead th {\n        text-align: right;\n    }\n</style>\n<table border=\"1\" class=\"dataframe\">\n  <thead>\n    <tr style=\"text-align: right;\">\n      <th></th>\n      <th>Anime_id</th>\n      <th>Name</th>\n      <th>Genre</th>\n      <th>Type</th>\n      <th>Episodes</th>\n      <th>Rating</th>\n      <th>Members</th>\n    </tr>\n  </thead>\n  <tbody>\n    <tr>\n      <th>244</th>\n      <td>5365</td>\n      <td>Tsumiki no Ie</td>\n      <td>Drama</td>\n      <td>Movie</td>\n      <td>1</td>\n      <td>8.27</td>\n      <td>45189</td>\n    </tr>\n    <tr>\n      <th>321</th>\n      <td>6211</td>\n      <td>Tokyo Magnitude 8.0</td>\n      <td>Drama</td>\n      <td>TV</td>\n      <td>11</td>\n      <td>8.19</td>\n      <td>121349</td>\n    </tr>\n    <tr>\n      <th>469</th>\n      <td>29093</td>\n      <td>Grisaia no Meikyuu: Caprice no Mayu 0</td>\n      <td>Drama</td>\n      <td>Special</td>\n      <td>1</td>\n      <td>8.05</td>\n      <td>70039</td>\n    </tr>\n    <tr>\n      <th>707</th>\n      <td>1520</td>\n      <td>Black Jack</td>\n      <td>Drama</td>\n      <td>OVA</td>\n      <td>12</td>\n      <td>7.88</td>\n      <td>14414</td>\n    </tr>\n    <tr>\n      <th>762</th>\n      <td>2405</td>\n      <td>Hello! Lady Lynn</td>\n      <td>Drama</td>\n      <td>TV</td>\n      <td>36</td>\n      <td>7.85</td>\n      <td>1757</td>\n    </tr>\n    <tr>\n      <th>...</th>\n      <td>...</td>\n      <td>...</td>\n      <td>...</td>\n      <td>...</td>\n      <td>...</td>\n      <td>...</td>\n      <td>...</td>\n    </tr>\n    <tr>\n      <th>10852</th>\n      <td>29812</td>\n      <td>Yumemi Douji</td>\n      <td>Drama</td>\n      <td>Movie</td>\n      <td>1</td>\n      <td>5.27</td>\n      <td>79</td>\n    </tr>\n    <tr>\n      <th>10890</th>\n      <td>11097</td>\n      <td>Zou no Inai Doubutsuen</td>\n      <td>Drama</td>\n      <td>Movie</td>\n      <td>1</td>\n      <td>6.07</td>\n      <td>85</td>\n    </tr>\n    <tr>\n      <th>11058</th>\n      <td>24023</td>\n      <td>Project758</td>\n      <td>Drama</td>\n      <td>NaN</td>\n      <td>Unknown</td>\n      <td>NaN</td>\n      <td>455</td>\n    </tr>\n    <tr>\n      <th>11062</th>\n      <td>34348</td>\n      <td>Rescue Academia</td>\n      <td>Drama</td>\n      <td>NaN</td>\n      <td>Unknown</td>\n      <td>NaN</td>\n      <td>65</td>\n    </tr>\n    <tr>\n      <th>11098</th>\n      <td>34498</td>\n      <td>Uchiage Hanabi, Shita kara Miru ka? Yoko kara ...</td>\n      <td>Drama</td>\n      <td>Movie</td>\n      <td>1</td>\n      <td>NaN</td>\n      <td>531</td>\n    </tr>\n  </tbody>\n</table>\n<p>107 rows × 7 columns</p>\n</div>"
     },
     "execution_count": 15,
     "metadata": {},
     "output_type": "execute_result"
    }
   ],
   "source": [
    "anime[anime['Genre'] == 'Drama']"
   ],
   "metadata": {
    "collapsed": false,
    "ExecuteTime": {
     "end_time": "2023-12-18T19:11:01.418110800Z",
     "start_time": "2023-12-18T19:11:01.348845300Z"
    }
   },
   "id": "25557c5a493bfcbc"
  },
  {
   "cell_type": "markdown",
   "source": [
    "Фильтрация данных по столбцу жанра с условием, что он должен быть драмой"
   ],
   "metadata": {
    "collapsed": false
   },
   "id": "b91a913d2c2c39ea"
  },
  {
   "cell_type": "code",
   "execution_count": 38,
   "outputs": [
    {
     "data": {
      "text/plain": "       Anime_id                                               Name  \\\n523        1470                                        City Hunter   \n524         780    Detective Conan Movie 02: The Fourteenth Target   \n525       27633                  Gekkan Shoujo Nozaki-kun Specials   \n526        2321  Giant Robo the Animation: Chikyuu ga Seishi Su...   \n527       17273              Hetalia: The Beautiful World Specials   \n528         429  Kaleido Star: Legend of Phoenix - Layla Hamilt...   \n529       18661                         Kamisama Hajimemashita OVA   \n530       14349                              Little Witch Academia   \n531        1729                           Maria-sama ga Miteru 3rd   \n532       31973                     Mobile Suit Gundam Thunderbolt   \n533       17949                       The Everlasting Guilty Crown   \n8487      30935  Douwa Mondai to Jinken: Anata wa Dou Kangaemasuka   \n8535      33792                               Feng Shu Zhan Jing 2   \n8918      33396                      Hua Jiang Hu Zhi Bu Liang Ren   \n8949      26329                       Ijimekko Ookami to Nana-chan   \n8967      26299                                        Inamuranohi   \n8985      28021              Ishii Hisaichi no Nanda Kanda Gekijou   \n9091      21551                        Kaitei Toshi no Dekiru made   \n9136      17217                                    Kankara Sanshin   \n9147      29489                                    Karasu no Puuta   \n9290      26117                                           Kokoroya   \n9448      28577  Makehen de! Roku-nen San-kumi no Hanshin Daish...   \n9499      33383                                       Mask Masters   \n9525      30027                                      Meisaku World   \n9532       7616                                              Michi   \n9682      32275                                   Nar Doma Special   \n9686      26153                          Nat-chan no Akai Tebukuro   \n9735      22325                                     Ningen Kakumei   \n9805      34363                      Ocha-ken: Ryokutto Monogatari   \n9826      30980                                 Ojiichan no Hanabi   \n9833      30978                             Okaasan no Yasashii te   \n9834      26315                                 Okaasan, Nakanaide   \n9865      29275                   Ooedo Torimonochou: Nezumi Kozou   \n9926      26133                 Paper Cranes Story: Kenta to Maiko   \n10152     27961               Science Anime: Choudendou Monogatari   \n10212     32014                         Shimajirou to Ehon no Kuni   \n10313     28555                          Son Gokuu no Hi no Youjin   \n10413     23911  Subarashii Sekai Ryokou: Alaska no Tabi &quot;...   \n10414     32629  Subarashii Sekai Ryokou: New York Tabi &quot;C...   \n10501     31861                  Tenchi Muyou! Ryououki 4th Season   \n10719     33319                                   Wareware no Heya   \n10824     33762                               Yong Zhe Da Mao Xian   \n10831     23351                             Youkaiden Nekome Kozou   \n10844     33828  Yume Kakeru Kougen: Kiyosato no Chichi Paul Rusch   \n\n                                                   Genre     Type Episodes  \\\n523                     Action, Comedy, Mystery, Shounen       TV       51   \n524          Adventure, Comedy, Mystery, Police, Shounen    Movie        1   \n525                              Comedy, Romance, School  Special        6   \n526          Action, Mecha, Sci-Fi, Shounen, Super Power      OVA        7   \n527                           Comedy, Historical, Parody  Special        4   \n528                                Comedy, Drama, Shoujo      OVA        1   \n529        Comedy, Demons, Fantasy, Shoujo, Supernatural      OVA        2   \n530            Adventure, Comedy, Fantasy, Magic, School    Movie        1   \n531              Drama, School, Shoujo Ai, Slice of Life      OVA        5   \n532        Action, Drama, Mecha, Military, Sci-Fi, Space      ONA        4   \n533                                                Music    Music        1   \n8487                                               Drama      OVA        1   \n8535                              Adventure, Kids, Mecha       TV       26   \n8918   Adventure, Drama, Historical, Martial Arts, Ro...      ONA       54   \n8949                                         Drama, Kids      OVA        1   \n8967                             Drama, Historical, Kids      OVA        1   \n8985                 Comedy, Martial Arts, Sci-Fi, Space      OVA        2   \n9091                                              Sci-Fi    Movie        1   \n9136                                   Drama, Historical    Movie        1   \n9147                                                Kids       TV  Unknown   \n9290                         Kids, Psychological, Sci-Fi      OVA        1   \n9448                             Drama, Historical, Kids      OVA        1   \n9499                                   Action, Adventure       TV       26   \n9525   Adventure, Fantasy, Historical, Kids, Magic, S...       TV       39   \n9532                                               Drama    Movie        4   \n9682                                              Comedy  Special        1   \n9686                                    Historical, Kids    Movie        1   \n9735                                       Slice of Life      OVA       20   \n9805                                 Kids, Slice of Life       TV       13   \n9826                                         Drama, Kids      OVA        1   \n9833                                         Drama, Kids      OVA        1   \n9834                                         Drama, Kids      OVA        1   \n9865                           Historical, Kids, Mystery      OVA        1   \n9926                           Fantasy, Historical, Kids      OVA        1   \n10152                                   Historical, Kids  Special        1   \n10212                      Action, Comedy, Fantasy, Kids    Movie        1   \n10313                               Drama, Fantasy, Kids      OVA        1   \n10413                                  Adventure, Sci-Fi  Special        2   \n10414                                             Sci-Fi  Special        2   \n10501      Action, Comedy, Harem, Sci-Fi, Shounen, Space      OVA        4   \n10719                                                NaN    Movie        1   \n10824                                 Adventure, Fantasy      ONA       26   \n10831  Adventure, Horror, Psychological, Seinen, Supe...       TV       25   \n10844                                         Historical    Movie        1   \n\n       Rating  Members  \n523       8.0    19963  \n524       8.0    26284  \n525       8.0    52672  \n526       8.0    12283  \n527       8.0     8644  \n528       8.0     9268  \n529       8.0    38678  \n530       8.0   111703  \n531       8.0    12394  \n532       8.0    14419  \n533       8.0    11663  \n8487      8.0       42  \n8535      8.0       24  \n8918      8.0       59  \n8949      8.0       66  \n8967      8.0       47  \n8985      8.0       62  \n9091      8.0       64  \n9136      8.0      125  \n9147      8.0       42  \n9290      8.0       66  \n9448      8.0       37  \n9499      8.0       53  \n9525      8.0       42  \n9532      8.0      187  \n9682      8.0       71  \n9686      8.0       51  \n9735      8.0       86  \n9805      8.0       20  \n9826      8.0       40  \n9833      8.0       38  \n9834      8.0       49  \n9865      8.0       41  \n9926      8.0       47  \n10152     8.0       42  \n10212     8.0       58  \n10313     8.0       53  \n10413     8.0       62  \n10414     8.0       35  \n10501     8.0     1602  \n10719     8.0       15  \n10824     8.0       78  \n10831     8.0      153  \n10844     8.0       35  ",
      "text/html": "<div>\n<style scoped>\n    .dataframe tbody tr th:only-of-type {\n        vertical-align: middle;\n    }\n\n    .dataframe tbody tr th {\n        vertical-align: top;\n    }\n\n    .dataframe thead th {\n        text-align: right;\n    }\n</style>\n<table border=\"1\" class=\"dataframe\">\n  <thead>\n    <tr style=\"text-align: right;\">\n      <th></th>\n      <th>Anime_id</th>\n      <th>Name</th>\n      <th>Genre</th>\n      <th>Type</th>\n      <th>Episodes</th>\n      <th>Rating</th>\n      <th>Members</th>\n    </tr>\n  </thead>\n  <tbody>\n    <tr>\n      <th>523</th>\n      <td>1470</td>\n      <td>City Hunter</td>\n      <td>Action, Comedy, Mystery, Shounen</td>\n      <td>TV</td>\n      <td>51</td>\n      <td>8.0</td>\n      <td>19963</td>\n    </tr>\n    <tr>\n      <th>524</th>\n      <td>780</td>\n      <td>Detective Conan Movie 02: The Fourteenth Target</td>\n      <td>Adventure, Comedy, Mystery, Police, Shounen</td>\n      <td>Movie</td>\n      <td>1</td>\n      <td>8.0</td>\n      <td>26284</td>\n    </tr>\n    <tr>\n      <th>525</th>\n      <td>27633</td>\n      <td>Gekkan Shoujo Nozaki-kun Specials</td>\n      <td>Comedy, Romance, School</td>\n      <td>Special</td>\n      <td>6</td>\n      <td>8.0</td>\n      <td>52672</td>\n    </tr>\n    <tr>\n      <th>526</th>\n      <td>2321</td>\n      <td>Giant Robo the Animation: Chikyuu ga Seishi Su...</td>\n      <td>Action, Mecha, Sci-Fi, Shounen, Super Power</td>\n      <td>OVA</td>\n      <td>7</td>\n      <td>8.0</td>\n      <td>12283</td>\n    </tr>\n    <tr>\n      <th>527</th>\n      <td>17273</td>\n      <td>Hetalia: The Beautiful World Specials</td>\n      <td>Comedy, Historical, Parody</td>\n      <td>Special</td>\n      <td>4</td>\n      <td>8.0</td>\n      <td>8644</td>\n    </tr>\n    <tr>\n      <th>528</th>\n      <td>429</td>\n      <td>Kaleido Star: Legend of Phoenix - Layla Hamilt...</td>\n      <td>Comedy, Drama, Shoujo</td>\n      <td>OVA</td>\n      <td>1</td>\n      <td>8.0</td>\n      <td>9268</td>\n    </tr>\n    <tr>\n      <th>529</th>\n      <td>18661</td>\n      <td>Kamisama Hajimemashita OVA</td>\n      <td>Comedy, Demons, Fantasy, Shoujo, Supernatural</td>\n      <td>OVA</td>\n      <td>2</td>\n      <td>8.0</td>\n      <td>38678</td>\n    </tr>\n    <tr>\n      <th>530</th>\n      <td>14349</td>\n      <td>Little Witch Academia</td>\n      <td>Adventure, Comedy, Fantasy, Magic, School</td>\n      <td>Movie</td>\n      <td>1</td>\n      <td>8.0</td>\n      <td>111703</td>\n    </tr>\n    <tr>\n      <th>531</th>\n      <td>1729</td>\n      <td>Maria-sama ga Miteru 3rd</td>\n      <td>Drama, School, Shoujo Ai, Slice of Life</td>\n      <td>OVA</td>\n      <td>5</td>\n      <td>8.0</td>\n      <td>12394</td>\n    </tr>\n    <tr>\n      <th>532</th>\n      <td>31973</td>\n      <td>Mobile Suit Gundam Thunderbolt</td>\n      <td>Action, Drama, Mecha, Military, Sci-Fi, Space</td>\n      <td>ONA</td>\n      <td>4</td>\n      <td>8.0</td>\n      <td>14419</td>\n    </tr>\n    <tr>\n      <th>533</th>\n      <td>17949</td>\n      <td>The Everlasting Guilty Crown</td>\n      <td>Music</td>\n      <td>Music</td>\n      <td>1</td>\n      <td>8.0</td>\n      <td>11663</td>\n    </tr>\n    <tr>\n      <th>8487</th>\n      <td>30935</td>\n      <td>Douwa Mondai to Jinken: Anata wa Dou Kangaemasuka</td>\n      <td>Drama</td>\n      <td>OVA</td>\n      <td>1</td>\n      <td>8.0</td>\n      <td>42</td>\n    </tr>\n    <tr>\n      <th>8535</th>\n      <td>33792</td>\n      <td>Feng Shu Zhan Jing 2</td>\n      <td>Adventure, Kids, Mecha</td>\n      <td>TV</td>\n      <td>26</td>\n      <td>8.0</td>\n      <td>24</td>\n    </tr>\n    <tr>\n      <th>8918</th>\n      <td>33396</td>\n      <td>Hua Jiang Hu Zhi Bu Liang Ren</td>\n      <td>Adventure, Drama, Historical, Martial Arts, Ro...</td>\n      <td>ONA</td>\n      <td>54</td>\n      <td>8.0</td>\n      <td>59</td>\n    </tr>\n    <tr>\n      <th>8949</th>\n      <td>26329</td>\n      <td>Ijimekko Ookami to Nana-chan</td>\n      <td>Drama, Kids</td>\n      <td>OVA</td>\n      <td>1</td>\n      <td>8.0</td>\n      <td>66</td>\n    </tr>\n    <tr>\n      <th>8967</th>\n      <td>26299</td>\n      <td>Inamuranohi</td>\n      <td>Drama, Historical, Kids</td>\n      <td>OVA</td>\n      <td>1</td>\n      <td>8.0</td>\n      <td>47</td>\n    </tr>\n    <tr>\n      <th>8985</th>\n      <td>28021</td>\n      <td>Ishii Hisaichi no Nanda Kanda Gekijou</td>\n      <td>Comedy, Martial Arts, Sci-Fi, Space</td>\n      <td>OVA</td>\n      <td>2</td>\n      <td>8.0</td>\n      <td>62</td>\n    </tr>\n    <tr>\n      <th>9091</th>\n      <td>21551</td>\n      <td>Kaitei Toshi no Dekiru made</td>\n      <td>Sci-Fi</td>\n      <td>Movie</td>\n      <td>1</td>\n      <td>8.0</td>\n      <td>64</td>\n    </tr>\n    <tr>\n      <th>9136</th>\n      <td>17217</td>\n      <td>Kankara Sanshin</td>\n      <td>Drama, Historical</td>\n      <td>Movie</td>\n      <td>1</td>\n      <td>8.0</td>\n      <td>125</td>\n    </tr>\n    <tr>\n      <th>9147</th>\n      <td>29489</td>\n      <td>Karasu no Puuta</td>\n      <td>Kids</td>\n      <td>TV</td>\n      <td>Unknown</td>\n      <td>8.0</td>\n      <td>42</td>\n    </tr>\n    <tr>\n      <th>9290</th>\n      <td>26117</td>\n      <td>Kokoroya</td>\n      <td>Kids, Psychological, Sci-Fi</td>\n      <td>OVA</td>\n      <td>1</td>\n      <td>8.0</td>\n      <td>66</td>\n    </tr>\n    <tr>\n      <th>9448</th>\n      <td>28577</td>\n      <td>Makehen de! Roku-nen San-kumi no Hanshin Daish...</td>\n      <td>Drama, Historical, Kids</td>\n      <td>OVA</td>\n      <td>1</td>\n      <td>8.0</td>\n      <td>37</td>\n    </tr>\n    <tr>\n      <th>9499</th>\n      <td>33383</td>\n      <td>Mask Masters</td>\n      <td>Action, Adventure</td>\n      <td>TV</td>\n      <td>26</td>\n      <td>8.0</td>\n      <td>53</td>\n    </tr>\n    <tr>\n      <th>9525</th>\n      <td>30027</td>\n      <td>Meisaku World</td>\n      <td>Adventure, Fantasy, Historical, Kids, Magic, S...</td>\n      <td>TV</td>\n      <td>39</td>\n      <td>8.0</td>\n      <td>42</td>\n    </tr>\n    <tr>\n      <th>9532</th>\n      <td>7616</td>\n      <td>Michi</td>\n      <td>Drama</td>\n      <td>Movie</td>\n      <td>4</td>\n      <td>8.0</td>\n      <td>187</td>\n    </tr>\n    <tr>\n      <th>9682</th>\n      <td>32275</td>\n      <td>Nar Doma Special</td>\n      <td>Comedy</td>\n      <td>Special</td>\n      <td>1</td>\n      <td>8.0</td>\n      <td>71</td>\n    </tr>\n    <tr>\n      <th>9686</th>\n      <td>26153</td>\n      <td>Nat-chan no Akai Tebukuro</td>\n      <td>Historical, Kids</td>\n      <td>Movie</td>\n      <td>1</td>\n      <td>8.0</td>\n      <td>51</td>\n    </tr>\n    <tr>\n      <th>9735</th>\n      <td>22325</td>\n      <td>Ningen Kakumei</td>\n      <td>Slice of Life</td>\n      <td>OVA</td>\n      <td>20</td>\n      <td>8.0</td>\n      <td>86</td>\n    </tr>\n    <tr>\n      <th>9805</th>\n      <td>34363</td>\n      <td>Ocha-ken: Ryokutto Monogatari</td>\n      <td>Kids, Slice of Life</td>\n      <td>TV</td>\n      <td>13</td>\n      <td>8.0</td>\n      <td>20</td>\n    </tr>\n    <tr>\n      <th>9826</th>\n      <td>30980</td>\n      <td>Ojiichan no Hanabi</td>\n      <td>Drama, Kids</td>\n      <td>OVA</td>\n      <td>1</td>\n      <td>8.0</td>\n      <td>40</td>\n    </tr>\n    <tr>\n      <th>9833</th>\n      <td>30978</td>\n      <td>Okaasan no Yasashii te</td>\n      <td>Drama, Kids</td>\n      <td>OVA</td>\n      <td>1</td>\n      <td>8.0</td>\n      <td>38</td>\n    </tr>\n    <tr>\n      <th>9834</th>\n      <td>26315</td>\n      <td>Okaasan, Nakanaide</td>\n      <td>Drama, Kids</td>\n      <td>OVA</td>\n      <td>1</td>\n      <td>8.0</td>\n      <td>49</td>\n    </tr>\n    <tr>\n      <th>9865</th>\n      <td>29275</td>\n      <td>Ooedo Torimonochou: Nezumi Kozou</td>\n      <td>Historical, Kids, Mystery</td>\n      <td>OVA</td>\n      <td>1</td>\n      <td>8.0</td>\n      <td>41</td>\n    </tr>\n    <tr>\n      <th>9926</th>\n      <td>26133</td>\n      <td>Paper Cranes Story: Kenta to Maiko</td>\n      <td>Fantasy, Historical, Kids</td>\n      <td>OVA</td>\n      <td>1</td>\n      <td>8.0</td>\n      <td>47</td>\n    </tr>\n    <tr>\n      <th>10152</th>\n      <td>27961</td>\n      <td>Science Anime: Choudendou Monogatari</td>\n      <td>Historical, Kids</td>\n      <td>Special</td>\n      <td>1</td>\n      <td>8.0</td>\n      <td>42</td>\n    </tr>\n    <tr>\n      <th>10212</th>\n      <td>32014</td>\n      <td>Shimajirou to Ehon no Kuni</td>\n      <td>Action, Comedy, Fantasy, Kids</td>\n      <td>Movie</td>\n      <td>1</td>\n      <td>8.0</td>\n      <td>58</td>\n    </tr>\n    <tr>\n      <th>10313</th>\n      <td>28555</td>\n      <td>Son Gokuu no Hi no Youjin</td>\n      <td>Drama, Fantasy, Kids</td>\n      <td>OVA</td>\n      <td>1</td>\n      <td>8.0</td>\n      <td>53</td>\n    </tr>\n    <tr>\n      <th>10413</th>\n      <td>23911</td>\n      <td>Subarashii Sekai Ryokou: Alaska no Tabi &amp;quot;...</td>\n      <td>Adventure, Sci-Fi</td>\n      <td>Special</td>\n      <td>2</td>\n      <td>8.0</td>\n      <td>62</td>\n    </tr>\n    <tr>\n      <th>10414</th>\n      <td>32629</td>\n      <td>Subarashii Sekai Ryokou: New York Tabi &amp;quot;C...</td>\n      <td>Sci-Fi</td>\n      <td>Special</td>\n      <td>2</td>\n      <td>8.0</td>\n      <td>35</td>\n    </tr>\n    <tr>\n      <th>10501</th>\n      <td>31861</td>\n      <td>Tenchi Muyou! Ryououki 4th Season</td>\n      <td>Action, Comedy, Harem, Sci-Fi, Shounen, Space</td>\n      <td>OVA</td>\n      <td>4</td>\n      <td>8.0</td>\n      <td>1602</td>\n    </tr>\n    <tr>\n      <th>10719</th>\n      <td>33319</td>\n      <td>Wareware no Heya</td>\n      <td>NaN</td>\n      <td>Movie</td>\n      <td>1</td>\n      <td>8.0</td>\n      <td>15</td>\n    </tr>\n    <tr>\n      <th>10824</th>\n      <td>33762</td>\n      <td>Yong Zhe Da Mao Xian</td>\n      <td>Adventure, Fantasy</td>\n      <td>ONA</td>\n      <td>26</td>\n      <td>8.0</td>\n      <td>78</td>\n    </tr>\n    <tr>\n      <th>10831</th>\n      <td>23351</td>\n      <td>Youkaiden Nekome Kozou</td>\n      <td>Adventure, Horror, Psychological, Seinen, Supe...</td>\n      <td>TV</td>\n      <td>25</td>\n      <td>8.0</td>\n      <td>153</td>\n    </tr>\n    <tr>\n      <th>10844</th>\n      <td>33828</td>\n      <td>Yume Kakeru Kougen: Kiyosato no Chichi Paul Rusch</td>\n      <td>Historical</td>\n      <td>Movie</td>\n      <td>1</td>\n      <td>8.0</td>\n      <td>35</td>\n    </tr>\n  </tbody>\n</table>\n</div>"
     },
     "execution_count": 38,
     "metadata": {},
     "output_type": "execute_result"
    }
   ],
   "source": [
    "anime[anime['Rating'] == 8]"
   ],
   "metadata": {
    "collapsed": false,
    "ExecuteTime": {
     "end_time": "2023-12-18T20:58:16.944717900Z",
     "start_time": "2023-12-18T20:58:16.876234200Z"
    }
   },
   "id": "cbc0c3d528edfdd7"
  },
  {
   "cell_type": "markdown",
   "source": [
    "Фильтрация данных по столбцу рейтинга с условием, что он должен равняться 8"
   ],
   "metadata": {
    "collapsed": false
   },
   "id": "77ff88e0dcbc22a7"
  },
  {
   "cell_type": "code",
   "execution_count": 34,
   "outputs": [],
   "source": [
    "dd = anime.drop_duplicates()"
   ],
   "metadata": {
    "collapsed": false,
    "ExecuteTime": {
     "end_time": "2023-12-18T20:05:32.841434600Z",
     "start_time": "2023-12-18T20:05:32.784106Z"
    }
   },
   "id": "869367290c709c74"
  },
  {
   "cell_type": "markdown",
   "source": [
    "Удаление дубликатов"
   ],
   "metadata": {
    "collapsed": false
   },
   "id": "8e748442328eec94"
  },
  {
   "cell_type": "code",
   "execution_count": 21,
   "outputs": [
    {
     "data": {
      "text/plain": "array(['1', '64', '51', '24', '10', '148', '110', '13', '201', '25', '22',\n       '75', '4', '26', '12', '27', '43', '74', '37', '2', '11', '99',\n       'Unknown', '39', '101', '47', '50', '62', '33', '112', '23', '3',\n       '94', '6', '8', '14', '7', '40', '15', '203', '77', '291', '120',\n       '102', '96', '38', '79', '175', '103', '70', '153', '45', '5',\n       '21', '63', '52', '28', '145', '36', '69', '60', '178', '114',\n       '35', '61', '34', '109', '20', '9', '49', '366', '97', '48', '78',\n       '358', '155', '104', '113', '54', '167', '161', '42', '142', '31',\n       '373', '220', '46', '195', '17', '1787', '73', '147', '127', '16',\n       '19', '98', '150', '76', '53', '124', '29', '115', '224', '44',\n       '58', '93', '154', '92', '67', '172', '86', '30', '276', '59',\n       '72', '330', '41', '105', '128', '137', '56', '55', '65', '243',\n       '193', '18', '191', '180', '91', '192', '66', '182', '32', '164',\n       '100', '296', '694', '95', '68', '117', '151', '130', '87', '170',\n       '119', '84', '108', '156', '140', '331', '305', '300', '510',\n       '200', '88', '1471', '526', '143', '726', '136', '1818', '237',\n       '1428', '365', '163', '283', '71', '260', '199', '225', '312',\n       '240', '1306', '1565', '773', '1274', '90', '475', '263', '83',\n       '85', '1006', '80', '162', '132', '141', '125'], dtype=object)"
     },
     "execution_count": 21,
     "metadata": {},
     "output_type": "execute_result"
    }
   ],
   "source": [
    "anime['Episodes'].unique()"
   ],
   "metadata": {
    "collapsed": false,
    "ExecuteTime": {
     "end_time": "2023-12-18T19:16:23.316597Z",
     "start_time": "2023-12-18T19:16:23.248189900Z"
    }
   },
   "id": "ee01dade8169f7b"
  },
  {
   "cell_type": "markdown",
   "source": [
    "Вывод уникальных значений столбца"
   ],
   "metadata": {
    "collapsed": false
   },
   "id": "29d2744c9105dd86"
  },
  {
   "cell_type": "code",
   "execution_count": 22,
   "outputs": [
    {
     "data": {
      "text/plain": "array(['Drama, Romance, School, Supernatural',\n       'Action, Adventure, Drama, Fantasy, Magic, Military, Shounen',\n       'Action, Comedy, Historical, Parody, Samurai, Sci-Fi, Shounen',\n       ..., 'Fantasy, Hentai', 'Harem, Hentai, School, Yuri',\n       'Action, Hentai, Supernatural'], dtype=object)"
     },
     "execution_count": 22,
     "metadata": {},
     "output_type": "execute_result"
    }
   ],
   "source": [
    "anime['Genre'].unique()"
   ],
   "metadata": {
    "collapsed": false,
    "ExecuteTime": {
     "end_time": "2023-12-18T19:21:15.968208700Z",
     "start_time": "2023-12-18T19:21:15.921476300Z"
    }
   },
   "id": "df90c4e882fbe53b"
  },
  {
   "cell_type": "markdown",
   "source": [
    "Вывод уникальных значений столбца"
   ],
   "metadata": {
    "collapsed": false
   },
   "id": "bba8e70ef2f8fce1"
  },
  {
   "cell_type": "code",
   "execution_count": 23,
   "outputs": [
    {
     "data": {
      "text/plain": "(11345, 7)"
     },
     "execution_count": 23,
     "metadata": {},
     "output_type": "execute_result"
    }
   ],
   "source": [
    "anime.shape"
   ],
   "metadata": {
    "collapsed": false,
    "ExecuteTime": {
     "end_time": "2023-12-18T19:22:52.576600100Z",
     "start_time": "2023-12-18T19:22:52.486815500Z"
    }
   },
   "id": "b6ffe553a9149ff2"
  },
  {
   "cell_type": "markdown",
   "source": [
    "Вывод размерности массива"
   ],
   "metadata": {
    "collapsed": false
   },
   "id": "422d5c447783aea8"
  },
  {
   "cell_type": "code",
   "execution_count": 24,
   "outputs": [
    {
     "data": {
      "text/plain": "           Anime_id        Rating       Members\ncount  11345.000000  11125.000000  1.134500e+04\nmean   14503.271750      6.516346  1.940548e+04\nstd    11532.549597      1.043300  5.685721e+04\nmin        1.000000      1.670000  5.000000e+00\n25%     3576.000000      5.920000  1.970000e+02\n50%    10819.000000      6.640000  1.555000e+03\n75%    25567.000000      7.240000  1.129300e+04\nmax    34527.000000     10.000000  1.013917e+06",
      "text/html": "<div>\n<style scoped>\n    .dataframe tbody tr th:only-of-type {\n        vertical-align: middle;\n    }\n\n    .dataframe tbody tr th {\n        vertical-align: top;\n    }\n\n    .dataframe thead th {\n        text-align: right;\n    }\n</style>\n<table border=\"1\" class=\"dataframe\">\n  <thead>\n    <tr style=\"text-align: right;\">\n      <th></th>\n      <th>Anime_id</th>\n      <th>Rating</th>\n      <th>Members</th>\n    </tr>\n  </thead>\n  <tbody>\n    <tr>\n      <th>count</th>\n      <td>11345.000000</td>\n      <td>11125.000000</td>\n      <td>1.134500e+04</td>\n    </tr>\n    <tr>\n      <th>mean</th>\n      <td>14503.271750</td>\n      <td>6.516346</td>\n      <td>1.940548e+04</td>\n    </tr>\n    <tr>\n      <th>std</th>\n      <td>11532.549597</td>\n      <td>1.043300</td>\n      <td>5.685721e+04</td>\n    </tr>\n    <tr>\n      <th>min</th>\n      <td>1.000000</td>\n      <td>1.670000</td>\n      <td>5.000000e+00</td>\n    </tr>\n    <tr>\n      <th>25%</th>\n      <td>3576.000000</td>\n      <td>5.920000</td>\n      <td>1.970000e+02</td>\n    </tr>\n    <tr>\n      <th>50%</th>\n      <td>10819.000000</td>\n      <td>6.640000</td>\n      <td>1.555000e+03</td>\n    </tr>\n    <tr>\n      <th>75%</th>\n      <td>25567.000000</td>\n      <td>7.240000</td>\n      <td>1.129300e+04</td>\n    </tr>\n    <tr>\n      <th>max</th>\n      <td>34527.000000</td>\n      <td>10.000000</td>\n      <td>1.013917e+06</td>\n    </tr>\n  </tbody>\n</table>\n</div>"
     },
     "execution_count": 24,
     "metadata": {},
     "output_type": "execute_result"
    }
   ],
   "source": [
    "anime.describe()"
   ],
   "metadata": {
    "collapsed": false,
    "ExecuteTime": {
     "end_time": "2023-12-18T19:23:14.843978Z",
     "start_time": "2023-12-18T19:23:14.761537200Z"
    }
   },
   "id": "c3d8917c413b4dc9"
  },
  {
   "cell_type": "markdown",
   "source": [
    "Функция describe генерирует нам описательную статистику"
   ],
   "metadata": {
    "collapsed": false
   },
   "id": "48055491b70a813c"
  },
  {
   "cell_type": "code",
   "execution_count": 39,
   "outputs": [
    {
     "data": {
      "text/plain": "Anime_id    8\nRating      8\nMembers     8\ndtype: int64"
     },
     "execution_count": 39,
     "metadata": {},
     "output_type": "execute_result"
    }
   ],
   "source": [
    "anime.describe().count()"
   ],
   "metadata": {
    "collapsed": false,
    "ExecuteTime": {
     "end_time": "2023-12-18T21:10:12.507002200Z",
     "start_time": "2023-12-18T21:10:12.469639200Z"
    }
   },
   "id": "6d21096ad3bfd8aa"
  },
  {
   "cell_type": "markdown",
   "source": [
    "Вывод количества записей, которые участвуют в подсчете остальных статистических показателей"
   ],
   "metadata": {
    "collapsed": false
   },
   "id": "85f885985dff1f2f"
  },
  {
   "cell_type": "code",
   "execution_count": 26,
   "outputs": [
    {
     "data": {
      "text/plain": "Anime_id                                   32281\nName                              Kimi no Na wa.\nGenre       Drama, Romance, School, Supernatural\nType                                       Movie\nEpisodes                                       1\nRating                                      9.37\nMembers                                   200630\nName: 0, dtype: object"
     },
     "execution_count": 26,
     "metadata": {},
     "output_type": "execute_result"
    }
   ],
   "source": [
    "ld = anime.loc[0]\n",
    "ld"
   ],
   "metadata": {
    "collapsed": false,
    "ExecuteTime": {
     "end_time": "2023-12-18T19:24:47.016571700Z",
     "start_time": "2023-12-18T19:24:46.892387300Z"
    }
   },
   "id": "9611cb8a775d86ae"
  },
  {
   "cell_type": "markdown",
   "source": [
    "Фильтрация датасета с помощью loc"
   ],
   "metadata": {
    "collapsed": false
   },
   "id": "974bc854b2277bfd"
  },
  {
   "cell_type": "code",
   "execution_count": 27,
   "outputs": [
    {
     "data": {
      "text/plain": "    Type                                              Genre\n0  Movie               Drama, Romance, School, Supernatural\n1     TV  Action, Adventure, Drama, Fantasy, Magic, Mili...\n2     TV  Action, Comedy, Historical, Parody, Samurai, S...\n3     TV                                   Sci-Fi, Thriller",
      "text/html": "<div>\n<style scoped>\n    .dataframe tbody tr th:only-of-type {\n        vertical-align: middle;\n    }\n\n    .dataframe tbody tr th {\n        vertical-align: top;\n    }\n\n    .dataframe thead th {\n        text-align: right;\n    }\n</style>\n<table border=\"1\" class=\"dataframe\">\n  <thead>\n    <tr style=\"text-align: right;\">\n      <th></th>\n      <th>Type</th>\n      <th>Genre</th>\n    </tr>\n  </thead>\n  <tbody>\n    <tr>\n      <th>0</th>\n      <td>Movie</td>\n      <td>Drama, Romance, School, Supernatural</td>\n    </tr>\n    <tr>\n      <th>1</th>\n      <td>TV</td>\n      <td>Action, Adventure, Drama, Fantasy, Magic, Mili...</td>\n    </tr>\n    <tr>\n      <th>2</th>\n      <td>TV</td>\n      <td>Action, Comedy, Historical, Parody, Samurai, S...</td>\n    </tr>\n    <tr>\n      <th>3</th>\n      <td>TV</td>\n      <td>Sci-Fi, Thriller</td>\n    </tr>\n  </tbody>\n</table>\n</div>"
     },
     "execution_count": 27,
     "metadata": {},
     "output_type": "execute_result"
    }
   ],
   "source": [
    "rd = anime.loc[[0, 1, 2, 3], ['Type', 'Genre']]\n",
    "rd"
   ],
   "metadata": {
    "collapsed": false,
    "ExecuteTime": {
     "end_time": "2023-12-18T19:31:22.111420500Z",
     "start_time": "2023-12-18T19:31:21.946570800Z"
    }
   },
   "id": "bc5c528ab041ac2c"
  },
  {
   "cell_type": "markdown",
   "source": [
    "Вывод двух столбцов и 4 первых строк"
   ],
   "metadata": {
    "collapsed": false
   },
   "id": "a593dad4eb2df312"
  },
  {
   "cell_type": "code",
   "execution_count": 28,
   "outputs": [
    {
     "data": {
      "text/plain": "       Anime_id                                               Name  \\\n0         32281                                     Kimi no Na wa.   \n8         15335  Gintama Movie: Kanketsu-hen - Yorozuya yo Eien...   \n11        28851                                     Koe no Katachi   \n15          199                      Sen to Chihiro no Kamikakushi   \n18        12355                       Ookami Kodomo no Ame to Yuki   \n...         ...                                                ...   \n11098     34498  Uchiage Hanabi, Shita kara Miru ka? Yoko kara ...   \n11108     32222  Youkai Watch Movie 3: Soratobu Kujira to Doubl...   \n11109     34471                               Youkai Watch Movie 4   \n11113     33390                                      Zunda Horizon   \n11154      3220                            Kanashimi no Belladonna   \n\n                                                   Genre   Type Episodes  \\\n0                   Drama, Romance, School, Supernatural  Movie        1   \n8      Action, Comedy, Historical, Parody, Samurai, S...  Movie        1   \n11                                Drama, School, Shounen  Movie        1   \n15                        Adventure, Drama, Supernatural  Movie        1   \n18                                Fantasy, Slice of Life  Movie        1   \n...                                                  ...    ...      ...   \n11098                                              Drama  Movie        1   \n11108                         Comedy, Kids, Supernatural  Movie        1   \n11109                         Comedy, Kids, Supernatural  Movie        1   \n11113                                                NaN  Movie        1   \n11154                                      Drama, Hentai  Movie        1   \n\n       Rating  Members  \n0        9.37   200630  \n8        9.10    72534  \n11       9.05   102733  \n15       8.93   466254  \n18       8.84   226193  \n...       ...      ...  \n11098     NaN      531  \n11108     NaN      237  \n11109     NaN      169  \n11113     NaN      160  \n11154    7.28     6599  \n\n[2341 rows x 7 columns]",
      "text/html": "<div>\n<style scoped>\n    .dataframe tbody tr th:only-of-type {\n        vertical-align: middle;\n    }\n\n    .dataframe tbody tr th {\n        vertical-align: top;\n    }\n\n    .dataframe thead th {\n        text-align: right;\n    }\n</style>\n<table border=\"1\" class=\"dataframe\">\n  <thead>\n    <tr style=\"text-align: right;\">\n      <th></th>\n      <th>Anime_id</th>\n      <th>Name</th>\n      <th>Genre</th>\n      <th>Type</th>\n      <th>Episodes</th>\n      <th>Rating</th>\n      <th>Members</th>\n    </tr>\n  </thead>\n  <tbody>\n    <tr>\n      <th>0</th>\n      <td>32281</td>\n      <td>Kimi no Na wa.</td>\n      <td>Drama, Romance, School, Supernatural</td>\n      <td>Movie</td>\n      <td>1</td>\n      <td>9.37</td>\n      <td>200630</td>\n    </tr>\n    <tr>\n      <th>8</th>\n      <td>15335</td>\n      <td>Gintama Movie: Kanketsu-hen - Yorozuya yo Eien...</td>\n      <td>Action, Comedy, Historical, Parody, Samurai, S...</td>\n      <td>Movie</td>\n      <td>1</td>\n      <td>9.10</td>\n      <td>72534</td>\n    </tr>\n    <tr>\n      <th>11</th>\n      <td>28851</td>\n      <td>Koe no Katachi</td>\n      <td>Drama, School, Shounen</td>\n      <td>Movie</td>\n      <td>1</td>\n      <td>9.05</td>\n      <td>102733</td>\n    </tr>\n    <tr>\n      <th>15</th>\n      <td>199</td>\n      <td>Sen to Chihiro no Kamikakushi</td>\n      <td>Adventure, Drama, Supernatural</td>\n      <td>Movie</td>\n      <td>1</td>\n      <td>8.93</td>\n      <td>466254</td>\n    </tr>\n    <tr>\n      <th>18</th>\n      <td>12355</td>\n      <td>Ookami Kodomo no Ame to Yuki</td>\n      <td>Fantasy, Slice of Life</td>\n      <td>Movie</td>\n      <td>1</td>\n      <td>8.84</td>\n      <td>226193</td>\n    </tr>\n    <tr>\n      <th>...</th>\n      <td>...</td>\n      <td>...</td>\n      <td>...</td>\n      <td>...</td>\n      <td>...</td>\n      <td>...</td>\n      <td>...</td>\n    </tr>\n    <tr>\n      <th>11098</th>\n      <td>34498</td>\n      <td>Uchiage Hanabi, Shita kara Miru ka? Yoko kara ...</td>\n      <td>Drama</td>\n      <td>Movie</td>\n      <td>1</td>\n      <td>NaN</td>\n      <td>531</td>\n    </tr>\n    <tr>\n      <th>11108</th>\n      <td>32222</td>\n      <td>Youkai Watch Movie 3: Soratobu Kujira to Doubl...</td>\n      <td>Comedy, Kids, Supernatural</td>\n      <td>Movie</td>\n      <td>1</td>\n      <td>NaN</td>\n      <td>237</td>\n    </tr>\n    <tr>\n      <th>11109</th>\n      <td>34471</td>\n      <td>Youkai Watch Movie 4</td>\n      <td>Comedy, Kids, Supernatural</td>\n      <td>Movie</td>\n      <td>1</td>\n      <td>NaN</td>\n      <td>169</td>\n    </tr>\n    <tr>\n      <th>11113</th>\n      <td>33390</td>\n      <td>Zunda Horizon</td>\n      <td>NaN</td>\n      <td>Movie</td>\n      <td>1</td>\n      <td>NaN</td>\n      <td>160</td>\n    </tr>\n    <tr>\n      <th>11154</th>\n      <td>3220</td>\n      <td>Kanashimi no Belladonna</td>\n      <td>Drama, Hentai</td>\n      <td>Movie</td>\n      <td>1</td>\n      <td>7.28</td>\n      <td>6599</td>\n    </tr>\n  </tbody>\n</table>\n<p>2341 rows × 7 columns</p>\n</div>"
     },
     "execution_count": 28,
     "metadata": {},
     "output_type": "execute_result"
    }
   ],
   "source": [
    "sor = anime.loc[anime['Type'] == 'Movie']\n",
    "sor"
   ],
   "metadata": {
    "collapsed": false,
    "ExecuteTime": {
     "end_time": "2023-12-18T19:32:53.406509600Z",
     "start_time": "2023-12-18T19:32:53.248671Z"
    }
   },
   "id": "66cfced7ffb00d12"
  },
  {
   "cell_type": "markdown",
   "source": [
    "Сортировка с помощью loc. Выводятся значения где тип - фильм"
   ],
   "metadata": {
    "collapsed": false
   },
   "id": "a54d237bd450c6ee"
  },
  {
   "cell_type": "code",
   "execution_count": 35,
   "outputs": [],
   "source": [
    "delete = dd.drop(columns=['Members'])"
   ],
   "metadata": {
    "collapsed": false,
    "ExecuteTime": {
     "end_time": "2023-12-18T20:05:43.450456500Z",
     "start_time": "2023-12-18T20:05:43.405825700Z"
    }
   },
   "id": "10f4a677cf1f655c"
  },
  {
   "cell_type": "markdown",
   "source": [
    "Удаление столбца с зрителями(?)"
   ],
   "metadata": {
    "collapsed": false
   },
   "id": "aaad1bcc2856b590"
  },
  {
   "cell_type": "code",
   "execution_count": 36,
   "outputs": [],
   "source": [
    "r = delete.replace({'Episodes' : 'Unknown'}, 'NaN')"
   ],
   "metadata": {
    "collapsed": false,
    "ExecuteTime": {
     "end_time": "2023-12-18T20:05:46.719454700Z",
     "start_time": "2023-12-18T20:05:46.690269900Z"
    }
   },
   "id": "6e5e8c047f46e64f"
  },
  {
   "cell_type": "markdown",
   "source": [
    "Замена значений в определенном столбце"
   ],
   "metadata": {
    "collapsed": false
   },
   "id": "dd291ddd9b3635c5"
  },
  {
   "cell_type": "code",
   "execution_count": 37,
   "outputs": [],
   "source": [
    "r.to_csv('newfile.csv', index=False)"
   ],
   "metadata": {
    "collapsed": false,
    "ExecuteTime": {
     "end_time": "2023-12-18T20:05:49.090620400Z",
     "start_time": "2023-12-18T20:05:49.014492700Z"
    }
   },
   "id": "f1ed2ba893dbbf4d"
  },
  {
   "cell_type": "markdown",
   "source": [
    "Записываем обновлённые данные в файл 'newfile.csv'"
   ],
   "metadata": {
    "collapsed": false
   },
   "id": "720034117d9169dd"
  },
  {
   "cell_type": "markdown",
   "source": [
    "Вывод: в ходе работы был проанализирован датасет, изучено Jupyter Notebook, основные функции в библиотеке pandas, а именно: вывести весь датасет и описать его, вывести размерноть массива, вывести наименование всех колонок, написать что они означают в датасете, вывести все уникальные значения, отсортировать по определенным параметрам, удалить ненужные столбцы или строчки, заменить определенные значения в датасете (например, пустые), удалить дубликаты, провести анализ с помощью функций info, провести анализ с помощью функций describe, провести выборку данных по строкам и столбцам с помощью loc, сохранить новый датасет."
   ],
   "metadata": {
    "collapsed": false
   },
   "id": "7bcabebdb68bbfcd"
  }
 ],
 "metadata": {
  "kernelspec": {
   "display_name": "Python 3",
   "language": "python",
   "name": "python3"
  },
  "language_info": {
   "codemirror_mode": {
    "name": "ipython",
    "version": 2
   },
   "file_extension": ".py",
   "mimetype": "text/x-python",
   "name": "python",
   "nbconvert_exporter": "python",
   "pygments_lexer": "ipython2",
   "version": "2.7.6"
  }
 },
 "nbformat": 4,
 "nbformat_minor": 5
}
